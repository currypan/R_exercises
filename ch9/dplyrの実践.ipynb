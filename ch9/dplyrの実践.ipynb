{
 "cells": [
  {
   "cell_type": "markdown",
   "metadata": {
    "deletable": true,
    "editable": true
   },
   "source": [
    "# dplyrの実践"
   ]
  },
  {
   "cell_type": "code",
   "execution_count": 2,
   "metadata": {
    "collapsed": false,
    "deletable": true,
    "editable": true
   },
   "outputs": [],
   "source": [
    "library(dplyr)\n",
    "        "
   ]
  },
  {
   "cell_type": "markdown",
   "metadata": {
    "deletable": true,
    "editable": true
   },
   "source": [
    "## データフレームを作成\n"
   ]
  },
  {
   "cell_type": "code",
   "execution_count": 3,
   "metadata": {
    "collapsed": false,
    "deletable": true,
    "editable": true
   },
   "outputs": [
    {
     "data": {
      "text/html": [
       "<table>\n",
       "<thead><tr><th></th><th scope=col>day1</th><th scope=col>day2</th><th scope=col>s</th></tr></thead>\n",
       "<tbody>\n",
       "\t<tr><th scope=row>a</th><td> 1      </td><td>11      </td><td>anpan   </td></tr>\n",
       "\t<tr><th scope=row>b</th><td> 2      </td><td>12      </td><td>currypan</td></tr>\n",
       "\t<tr><th scope=row>c</th><td> 3      </td><td>13      </td><td>currypan</td></tr>\n",
       "\t<tr><th scope=row>d</th><td> 4      </td><td>14      </td><td>syokupan</td></tr>\n",
       "\t<tr><th scope=row>e</th><td> 5      </td><td>15      </td><td>anpan   </td></tr>\n",
       "\t<tr><th scope=row>f</th><td> 6      </td><td>16      </td><td>syokupan</td></tr>\n",
       "\t<tr><th scope=row>g</th><td> 7      </td><td>17      </td><td>syokupan</td></tr>\n",
       "\t<tr><th scope=row>h</th><td> 8      </td><td>18      </td><td>currypan</td></tr>\n",
       "\t<tr><th scope=row>i</th><td> 9      </td><td>19      </td><td>currypan</td></tr>\n",
       "\t<tr><th scope=row>j</th><td>10      </td><td>20      </td><td>anpan   </td></tr>\n",
       "</tbody>\n",
       "</table>\n"
      ],
      "text/latex": [
       "\\begin{tabular}{r|lll}\n",
       "  & day1 & day2 & s\\\\\n",
       "\\hline\n",
       "\ta &  1       & 11       & anpan   \\\\\n",
       "\tb &  2       & 12       & currypan\\\\\n",
       "\tc &  3       & 13       & currypan\\\\\n",
       "\td &  4       & 14       & syokupan\\\\\n",
       "\te &  5       & 15       & anpan   \\\\\n",
       "\tf &  6       & 16       & syokupan\\\\\n",
       "\tg &  7       & 17       & syokupan\\\\\n",
       "\th &  8       & 18       & currypan\\\\\n",
       "\ti &  9       & 19       & currypan\\\\\n",
       "\tj & 10       & 20       & anpan   \\\\\n",
       "\\end{tabular}\n"
      ],
      "text/markdown": [
       "\n",
       "| <!--/--> | day1 | day2 | s | \n",
       "|---|---|---|---|---|---|---|---|---|---|\n",
       "| a |  1       | 11       | anpan    | \n",
       "| b |  2       | 12       | currypan | \n",
       "| c |  3       | 13       | currypan | \n",
       "| d |  4       | 14       | syokupan | \n",
       "| e |  5       | 15       | anpan    | \n",
       "| f |  6       | 16       | syokupan | \n",
       "| g |  7       | 17       | syokupan | \n",
       "| h |  8       | 18       | currypan | \n",
       "| i |  9       | 19       | currypan | \n",
       "| j | 10       | 20       | anpan    | \n",
       "\n",
       "\n"
      ],
      "text/plain": [
       "  day1 day2 s       \n",
       "a  1   11   anpan   \n",
       "b  2   12   currypan\n",
       "c  3   13   currypan\n",
       "d  4   14   syokupan\n",
       "e  5   15   anpan   \n",
       "f  6   16   syokupan\n",
       "g  7   17   syokupan\n",
       "h  8   18   currypan\n",
       "i  9   19   currypan\n",
       "j 10   20   anpan   "
      ]
     },
     "metadata": {},
     "output_type": "display_data"
    }
   ],
   "source": [
    "set.seed(1)\n",
    "d <- data.frame(day1 =1:10,\n",
    "                            day2 = 11:20,\n",
    "                            s = sample(c(\"anpan\",\"currypan\",\"syokupan\"),10,replace = TRUE),\n",
    "                            row.names=letters[1:10])\n",
    "\n",
    "#アンパンマン、カレーパンマン、食パンマンが、１日目と２日目にパトロールを行った距離\n",
    "\n",
    "d"
   ]
  },
  {
   "cell_type": "markdown",
   "metadata": {
    "deletable": true,
    "editable": true
   },
   "source": [
    "### 数値フィルタ"
   ]
  },
  {
   "cell_type": "code",
   "execution_count": 4,
   "metadata": {
    "collapsed": false,
    "deletable": true,
    "editable": true
   },
   "outputs": [
    {
     "data": {
      "text/html": [
       "<table>\n",
       "<thead><tr><th scope=col>day1</th><th scope=col>day2</th><th scope=col>s</th></tr></thead>\n",
       "<tbody>\n",
       "\t<tr><td>4       </td><td>14      </td><td>syokupan</td></tr>\n",
       "</tbody>\n",
       "</table>\n"
      ],
      "text/latex": [
       "\\begin{tabular}{r|lll}\n",
       " day1 & day2 & s\\\\\n",
       "\\hline\n",
       "\t 4        & 14       & syokupan\\\\\n",
       "\\end{tabular}\n"
      ],
      "text/markdown": [
       "\n",
       "day1 | day2 | s | \n",
       "|---|\n",
       "| 4        | 14       | syokupan | \n",
       "\n",
       "\n"
      ],
      "text/plain": [
       "  day1 day2 s       \n",
       "1 4    14   syokupan"
      ]
     },
     "metadata": {},
     "output_type": "display_data"
    },
    {
     "data": {
      "text/html": [
       "<table>\n",
       "<thead><tr><th scope=col>day1</th><th scope=col>day2</th><th scope=col>s</th></tr></thead>\n",
       "<tbody>\n",
       "\t<tr><td> 1      </td><td>11      </td><td>anpan   </td></tr>\n",
       "\t<tr><td> 2      </td><td>12      </td><td>currypan</td></tr>\n",
       "\t<tr><td> 3      </td><td>13      </td><td>currypan</td></tr>\n",
       "\t<tr><td> 5      </td><td>15      </td><td>anpan   </td></tr>\n",
       "\t<tr><td> 6      </td><td>16      </td><td>syokupan</td></tr>\n",
       "\t<tr><td> 7      </td><td>17      </td><td>syokupan</td></tr>\n",
       "\t<tr><td> 8      </td><td>18      </td><td>currypan</td></tr>\n",
       "\t<tr><td> 9      </td><td>19      </td><td>currypan</td></tr>\n",
       "\t<tr><td>10      </td><td>20      </td><td>anpan   </td></tr>\n",
       "</tbody>\n",
       "</table>\n"
      ],
      "text/latex": [
       "\\begin{tabular}{r|lll}\n",
       " day1 & day2 & s\\\\\n",
       "\\hline\n",
       "\t  1       & 11       & anpan   \\\\\n",
       "\t  2       & 12       & currypan\\\\\n",
       "\t  3       & 13       & currypan\\\\\n",
       "\t  5       & 15       & anpan   \\\\\n",
       "\t  6       & 16       & syokupan\\\\\n",
       "\t  7       & 17       & syokupan\\\\\n",
       "\t  8       & 18       & currypan\\\\\n",
       "\t  9       & 19       & currypan\\\\\n",
       "\t 10       & 20       & anpan   \\\\\n",
       "\\end{tabular}\n"
      ],
      "text/markdown": [
       "\n",
       "day1 | day2 | s | \n",
       "|---|---|---|---|---|---|---|---|---|\n",
       "|  1       | 11       | anpan    | \n",
       "|  2       | 12       | currypan | \n",
       "|  3       | 13       | currypan | \n",
       "|  5       | 15       | anpan    | \n",
       "|  6       | 16       | syokupan | \n",
       "|  7       | 17       | syokupan | \n",
       "|  8       | 18       | currypan | \n",
       "|  9       | 19       | currypan | \n",
       "| 10       | 20       | anpan    | \n",
       "\n",
       "\n"
      ],
      "text/plain": [
       "  day1 day2 s       \n",
       "1  1   11   anpan   \n",
       "2  2   12   currypan\n",
       "3  3   13   currypan\n",
       "4  5   15   anpan   \n",
       "5  6   16   syokupan\n",
       "6  7   17   syokupan\n",
       "7  8   18   currypan\n",
       "8  9   19   currypan\n",
       "9 10   20   anpan   "
      ]
     },
     "metadata": {},
     "output_type": "display_data"
    },
    {
     "data": {
      "text/html": [
       "<table>\n",
       "<thead><tr><th scope=col>day1</th><th scope=col>day2</th><th scope=col>s</th></tr></thead>\n",
       "<tbody>\n",
       "\t<tr><td>1       </td><td>11      </td><td>anpan   </td></tr>\n",
       "\t<tr><td>2       </td><td>12      </td><td>currypan</td></tr>\n",
       "\t<tr><td>3       </td><td>13      </td><td>currypan</td></tr>\n",
       "</tbody>\n",
       "</table>\n"
      ],
      "text/latex": [
       "\\begin{tabular}{r|lll}\n",
       " day1 & day2 & s\\\\\n",
       "\\hline\n",
       "\t 1        & 11       & anpan   \\\\\n",
       "\t 2        & 12       & currypan\\\\\n",
       "\t 3        & 13       & currypan\\\\\n",
       "\\end{tabular}\n"
      ],
      "text/markdown": [
       "\n",
       "day1 | day2 | s | \n",
       "|---|---|---|\n",
       "| 1        | 11       | anpan    | \n",
       "| 2        | 12       | currypan | \n",
       "| 3        | 13       | currypan | \n",
       "\n",
       "\n"
      ],
      "text/plain": [
       "  day1 day2 s       \n",
       "1 1    11   anpan   \n",
       "2 2    12   currypan\n",
       "3 3    13   currypan"
      ]
     },
     "metadata": {},
     "output_type": "display_data"
    },
    {
     "data": {
      "text/html": [
       "<table>\n",
       "<thead><tr><th scope=col>day1</th><th scope=col>day2</th><th scope=col>s</th></tr></thead>\n",
       "<tbody>\n",
       "\t<tr><td> 4      </td><td>14      </td><td>syokupan</td></tr>\n",
       "\t<tr><td> 5      </td><td>15      </td><td>anpan   </td></tr>\n",
       "\t<tr><td> 6      </td><td>16      </td><td>syokupan</td></tr>\n",
       "\t<tr><td> 7      </td><td>17      </td><td>syokupan</td></tr>\n",
       "\t<tr><td> 8      </td><td>18      </td><td>currypan</td></tr>\n",
       "\t<tr><td> 9      </td><td>19      </td><td>currypan</td></tr>\n",
       "\t<tr><td>10      </td><td>20      </td><td>anpan   </td></tr>\n",
       "</tbody>\n",
       "</table>\n"
      ],
      "text/latex": [
       "\\begin{tabular}{r|lll}\n",
       " day1 & day2 & s\\\\\n",
       "\\hline\n",
       "\t  4       & 14       & syokupan\\\\\n",
       "\t  5       & 15       & anpan   \\\\\n",
       "\t  6       & 16       & syokupan\\\\\n",
       "\t  7       & 17       & syokupan\\\\\n",
       "\t  8       & 18       & currypan\\\\\n",
       "\t  9       & 19       & currypan\\\\\n",
       "\t 10       & 20       & anpan   \\\\\n",
       "\\end{tabular}\n"
      ],
      "text/markdown": [
       "\n",
       "day1 | day2 | s | \n",
       "|---|---|---|---|---|---|---|\n",
       "|  4       | 14       | syokupan | \n",
       "|  5       | 15       | anpan    | \n",
       "|  6       | 16       | syokupan | \n",
       "|  7       | 17       | syokupan | \n",
       "|  8       | 18       | currypan | \n",
       "|  9       | 19       | currypan | \n",
       "| 10       | 20       | anpan    | \n",
       "\n",
       "\n"
      ],
      "text/plain": [
       "  day1 day2 s       \n",
       "1  4   14   syokupan\n",
       "2  5   15   anpan   \n",
       "3  6   16   syokupan\n",
       "4  7   17   syokupan\n",
       "5  8   18   currypan\n",
       "6  9   19   currypan\n",
       "7 10   20   anpan   "
      ]
     },
     "metadata": {},
     "output_type": "display_data"
    },
    {
     "data": {
      "text/html": [
       "<table>\n",
       "<thead><tr><th scope=col>day1</th><th scope=col>day2</th><th scope=col>s</th></tr></thead>\n",
       "<tbody>\n",
       "\t<tr><td>3       </td><td>13      </td><td>currypan</td></tr>\n",
       "\t<tr><td>4       </td><td>14      </td><td>syokupan</td></tr>\n",
       "\t<tr><td>5       </td><td>15      </td><td>anpan   </td></tr>\n",
       "\t<tr><td>6       </td><td>16      </td><td>syokupan</td></tr>\n",
       "\t<tr><td>7       </td><td>17      </td><td>syokupan</td></tr>\n",
       "</tbody>\n",
       "</table>\n"
      ],
      "text/latex": [
       "\\begin{tabular}{r|lll}\n",
       " day1 & day2 & s\\\\\n",
       "\\hline\n",
       "\t 3        & 13       & currypan\\\\\n",
       "\t 4        & 14       & syokupan\\\\\n",
       "\t 5        & 15       & anpan   \\\\\n",
       "\t 6        & 16       & syokupan\\\\\n",
       "\t 7        & 17       & syokupan\\\\\n",
       "\\end{tabular}\n"
      ],
      "text/markdown": [
       "\n",
       "day1 | day2 | s | \n",
       "|---|---|---|---|---|\n",
       "| 3        | 13       | currypan | \n",
       "| 4        | 14       | syokupan | \n",
       "| 5        | 15       | anpan    | \n",
       "| 6        | 16       | syokupan | \n",
       "| 7        | 17       | syokupan | \n",
       "\n",
       "\n"
      ],
      "text/plain": [
       "  day1 day2 s       \n",
       "1 3    13   currypan\n",
       "2 4    14   syokupan\n",
       "3 5    15   anpan   \n",
       "4 6    16   syokupan\n",
       "5 7    17   syokupan"
      ]
     },
     "metadata": {},
     "output_type": "display_data"
    }
   ],
   "source": [
    "d  %>% filter(day1==4) #day1に4が含まれる行を抽出\n",
    "d  %>% filter(day1 != 4) #  day1に４が含まれない行を抽出\n",
    "d  %>% filter(day1<4) # day1が4未満\n",
    "d  %>% filter(day1>=4) # day1が4以上\n",
    "d  %>% filter(between(day1,3,7)) # day1に3から７が含まれる行を抽出\n",
    "\n"
   ]
  },
  {
   "cell_type": "markdown",
   "metadata": {
    "deletable": true,
    "editable": true
   },
   "source": [
    "### 複数条件"
   ]
  },
  {
   "cell_type": "code",
   "execution_count": 5,
   "metadata": {
    "collapsed": false,
    "deletable": true,
    "editable": true
   },
   "outputs": [
    {
     "data": {
      "text/html": [
       "<table>\n",
       "<thead><tr><th scope=col>day1</th><th scope=col>day2</th><th scope=col>s</th></tr></thead>\n",
       "<tbody>\n",
       "\t<tr><td>3       </td><td>13      </td><td>currypan</td></tr>\n",
       "\t<tr><td>4       </td><td>14      </td><td>syokupan</td></tr>\n",
       "\t<tr><td>5       </td><td>15      </td><td>anpan   </td></tr>\n",
       "\t<tr><td>6       </td><td>16      </td><td>syokupan</td></tr>\n",
       "\t<tr><td>7       </td><td>17      </td><td>syokupan</td></tr>\n",
       "</tbody>\n",
       "</table>\n"
      ],
      "text/latex": [
       "\\begin{tabular}{r|lll}\n",
       " day1 & day2 & s\\\\\n",
       "\\hline\n",
       "\t 3        & 13       & currypan\\\\\n",
       "\t 4        & 14       & syokupan\\\\\n",
       "\t 5        & 15       & anpan   \\\\\n",
       "\t 6        & 16       & syokupan\\\\\n",
       "\t 7        & 17       & syokupan\\\\\n",
       "\\end{tabular}\n"
      ],
      "text/markdown": [
       "\n",
       "day1 | day2 | s | \n",
       "|---|---|---|---|---|\n",
       "| 3        | 13       | currypan | \n",
       "| 4        | 14       | syokupan | \n",
       "| 5        | 15       | anpan    | \n",
       "| 6        | 16       | syokupan | \n",
       "| 7        | 17       | syokupan | \n",
       "\n",
       "\n"
      ],
      "text/plain": [
       "  day1 day2 s       \n",
       "1 3    13   currypan\n",
       "2 4    14   syokupan\n",
       "3 5    15   anpan   \n",
       "4 6    16   syokupan\n",
       "5 7    17   syokupan"
      ]
     },
     "metadata": {},
     "output_type": "display_data"
    }
   ],
   "source": [
    "d  %>% filter(day1<8 & day2>12) "
   ]
  },
  {
   "cell_type": "code",
   "execution_count": 6,
   "metadata": {
    "collapsed": false,
    "deletable": true,
    "editable": true
   },
   "outputs": [
    {
     "data": {
      "text/html": [
       "<table>\n",
       "<thead><tr><th scope=col>day1</th><th scope=col>day2</th><th scope=col>s</th></tr></thead>\n",
       "<tbody>\n",
       "\t<tr><td> 1      </td><td>11      </td><td>anpan   </td></tr>\n",
       "\t<tr><td> 2      </td><td>12      </td><td>currypan</td></tr>\n",
       "\t<tr><td> 3      </td><td>13      </td><td>currypan</td></tr>\n",
       "\t<tr><td> 4      </td><td>14      </td><td>syokupan</td></tr>\n",
       "\t<tr><td> 9      </td><td>19      </td><td>currypan</td></tr>\n",
       "\t<tr><td>10      </td><td>20      </td><td>anpan   </td></tr>\n",
       "</tbody>\n",
       "</table>\n"
      ],
      "text/latex": [
       "\\begin{tabular}{r|lll}\n",
       " day1 & day2 & s\\\\\n",
       "\\hline\n",
       "\t  1       & 11       & anpan   \\\\\n",
       "\t  2       & 12       & currypan\\\\\n",
       "\t  3       & 13       & currypan\\\\\n",
       "\t  4       & 14       & syokupan\\\\\n",
       "\t  9       & 19       & currypan\\\\\n",
       "\t 10       & 20       & anpan   \\\\\n",
       "\\end{tabular}\n"
      ],
      "text/markdown": [
       "\n",
       "day1 | day2 | s | \n",
       "|---|---|---|---|---|---|\n",
       "|  1       | 11       | anpan    | \n",
       "|  2       | 12       | currypan | \n",
       "|  3       | 13       | currypan | \n",
       "|  4       | 14       | syokupan | \n",
       "|  9       | 19       | currypan | \n",
       "| 10       | 20       | anpan    | \n",
       "\n",
       "\n"
      ],
      "text/plain": [
       "  day1 day2 s       \n",
       "1  1   11   anpan   \n",
       "2  2   12   currypan\n",
       "3  3   13   currypan\n",
       "4  4   14   syokupan\n",
       "5  9   19   currypan\n",
       "6 10   20   anpan   "
      ]
     },
     "metadata": {},
     "output_type": "display_data"
    }
   ],
   "source": [
    "d  %>% filter(day1>8 | day2<15) #|は or "
   ]
  },
  {
   "cell_type": "code",
   "execution_count": 7,
   "metadata": {
    "collapsed": false,
    "deletable": true,
    "editable": true
   },
   "outputs": [
    {
     "data": {
      "text/html": [
       "<table>\n",
       "<thead><tr><th scope=col>day1</th><th scope=col>day2</th><th scope=col>s</th></tr></thead>\n",
       "<tbody>\n",
       "\t<tr><td> 1      </td><td>11      </td><td>anpan   </td></tr>\n",
       "\t<tr><td> 2      </td><td>12      </td><td>currypan</td></tr>\n",
       "\t<tr><td> 8      </td><td>18      </td><td>currypan</td></tr>\n",
       "\t<tr><td> 9      </td><td>19      </td><td>currypan</td></tr>\n",
       "\t<tr><td>10      </td><td>20      </td><td>anpan   </td></tr>\n",
       "</tbody>\n",
       "</table>\n"
      ],
      "text/latex": [
       "\\begin{tabular}{r|lll}\n",
       " day1 & day2 & s\\\\\n",
       "\\hline\n",
       "\t  1       & 11       & anpan   \\\\\n",
       "\t  2       & 12       & currypan\\\\\n",
       "\t  8       & 18       & currypan\\\\\n",
       "\t  9       & 19       & currypan\\\\\n",
       "\t 10       & 20       & anpan   \\\\\n",
       "\\end{tabular}\n"
      ],
      "text/markdown": [
       "\n",
       "day1 | day2 | s | \n",
       "|---|---|---|---|---|\n",
       "|  1       | 11       | anpan    | \n",
       "|  2       | 12       | currypan | \n",
       "|  8       | 18       | currypan | \n",
       "|  9       | 19       | currypan | \n",
       "| 10       | 20       | anpan    | \n",
       "\n",
       "\n"
      ],
      "text/plain": [
       "  day1 day2 s       \n",
       "1  1   11   anpan   \n",
       "2  2   12   currypan\n",
       "3  8   18   currypan\n",
       "4  9   19   currypan\n",
       "5 10   20   anpan   "
      ]
     },
     "metadata": {},
     "output_type": "display_data"
    }
   ],
   "source": [
    "d  %>% filter(xor(day1<8,day2>12)) #排他的論理和"
   ]
  },
  {
   "cell_type": "markdown",
   "metadata": {
    "deletable": true,
    "editable": true
   },
   "source": [
    "### 文字列フィルタ"
   ]
  },
  {
   "cell_type": "code",
   "execution_count": 8,
   "metadata": {
    "collapsed": false,
    "deletable": true,
    "editable": true
   },
   "outputs": [
    {
     "data": {
      "text/html": [
       "<table>\n",
       "<thead><tr><th scope=col>day1</th><th scope=col>day2</th><th scope=col>s</th></tr></thead>\n",
       "<tbody>\n",
       "\t<tr><td>2       </td><td>12      </td><td>currypan</td></tr>\n",
       "\t<tr><td>3       </td><td>13      </td><td>currypan</td></tr>\n",
       "\t<tr><td>8       </td><td>18      </td><td>currypan</td></tr>\n",
       "\t<tr><td>9       </td><td>19      </td><td>currypan</td></tr>\n",
       "</tbody>\n",
       "</table>\n"
      ],
      "text/latex": [
       "\\begin{tabular}{r|lll}\n",
       " day1 & day2 & s\\\\\n",
       "\\hline\n",
       "\t 2        & 12       & currypan\\\\\n",
       "\t 3        & 13       & currypan\\\\\n",
       "\t 8        & 18       & currypan\\\\\n",
       "\t 9        & 19       & currypan\\\\\n",
       "\\end{tabular}\n"
      ],
      "text/markdown": [
       "\n",
       "day1 | day2 | s | \n",
       "|---|---|---|---|\n",
       "| 2        | 12       | currypan | \n",
       "| 3        | 13       | currypan | \n",
       "| 8        | 18       | currypan | \n",
       "| 9        | 19       | currypan | \n",
       "\n",
       "\n"
      ],
      "text/plain": [
       "  day1 day2 s       \n",
       "1 2    12   currypan\n",
       "2 3    13   currypan\n",
       "3 8    18   currypan\n",
       "4 9    19   currypan"
      ]
     },
     "metadata": {},
     "output_type": "display_data"
    }
   ],
   "source": [
    "d  %>% filter(s==\"currypan\") # カレーパンだけを抽出"
   ]
  },
  {
   "cell_type": "code",
   "execution_count": 9,
   "metadata": {
    "collapsed": false,
    "deletable": true,
    "editable": true
   },
   "outputs": [
    {
     "data": {
      "text/html": [
       "<table>\n",
       "<thead><tr><th scope=col>day1</th><th scope=col>day2</th><th scope=col>s</th></tr></thead>\n",
       "<tbody>\n",
       "\t<tr><td> 1      </td><td>11      </td><td>anpan   </td></tr>\n",
       "\t<tr><td> 4      </td><td>14      </td><td>syokupan</td></tr>\n",
       "\t<tr><td> 5      </td><td>15      </td><td>anpan   </td></tr>\n",
       "\t<tr><td> 6      </td><td>16      </td><td>syokupan</td></tr>\n",
       "\t<tr><td> 7      </td><td>17      </td><td>syokupan</td></tr>\n",
       "\t<tr><td>10      </td><td>20      </td><td>anpan   </td></tr>\n",
       "</tbody>\n",
       "</table>\n"
      ],
      "text/latex": [
       "\\begin{tabular}{r|lll}\n",
       " day1 & day2 & s\\\\\n",
       "\\hline\n",
       "\t  1       & 11       & anpan   \\\\\n",
       "\t  4       & 14       & syokupan\\\\\n",
       "\t  5       & 15       & anpan   \\\\\n",
       "\t  6       & 16       & syokupan\\\\\n",
       "\t  7       & 17       & syokupan\\\\\n",
       "\t 10       & 20       & anpan   \\\\\n",
       "\\end{tabular}\n"
      ],
      "text/markdown": [
       "\n",
       "day1 | day2 | s | \n",
       "|---|---|---|---|---|---|\n",
       "|  1       | 11       | anpan    | \n",
       "|  4       | 14       | syokupan | \n",
       "|  5       | 15       | anpan    | \n",
       "|  6       | 16       | syokupan | \n",
       "|  7       | 17       | syokupan | \n",
       "| 10       | 20       | anpan    | \n",
       "\n",
       "\n"
      ],
      "text/plain": [
       "  day1 day2 s       \n",
       "1  1   11   anpan   \n",
       "2  4   14   syokupan\n",
       "3  5   15   anpan   \n",
       "4  6   16   syokupan\n",
       "5  7   17   syokupan\n",
       "6 10   20   anpan   "
      ]
     },
     "metadata": {},
     "output_type": "display_data"
    }
   ],
   "source": [
    "d  %>% filter(s !=\"currypan\") #カレーパン以外"
   ]
  },
  {
   "cell_type": "markdown",
   "metadata": {
    "deletable": true,
    "editable": true
   },
   "source": [
    "### 正規表現を利用した一致条件の指定"
   ]
  },
  {
   "cell_type": "code",
   "execution_count": 10,
   "metadata": {
    "collapsed": false,
    "deletable": true,
    "editable": true
   },
   "outputs": [
    {
     "name": "stderr",
     "output_type": "stream",
     "text": [
      "Warning message:\n",
      "“package ‘stringr’ was built under R version 3.2.5”"
     ]
    },
    {
     "data": {
      "text/html": [
       "<table>\n",
       "<thead><tr><th scope=col>day1</th><th scope=col>day2</th><th scope=col>s</th></tr></thead>\n",
       "<tbody>\n",
       "\t<tr><td>2       </td><td>12      </td><td>currypan</td></tr>\n",
       "\t<tr><td>3       </td><td>13      </td><td>currypan</td></tr>\n",
       "\t<tr><td>8       </td><td>18      </td><td>currypan</td></tr>\n",
       "\t<tr><td>9       </td><td>19      </td><td>currypan</td></tr>\n",
       "</tbody>\n",
       "</table>\n"
      ],
      "text/latex": [
       "\\begin{tabular}{r|lll}\n",
       " day1 & day2 & s\\\\\n",
       "\\hline\n",
       "\t 2        & 12       & currypan\\\\\n",
       "\t 3        & 13       & currypan\\\\\n",
       "\t 8        & 18       & currypan\\\\\n",
       "\t 9        & 19       & currypan\\\\\n",
       "\\end{tabular}\n"
      ],
      "text/markdown": [
       "\n",
       "day1 | day2 | s | \n",
       "|---|---|---|---|\n",
       "| 2        | 12       | currypan | \n",
       "| 3        | 13       | currypan | \n",
       "| 8        | 18       | currypan | \n",
       "| 9        | 19       | currypan | \n",
       "\n",
       "\n"
      ],
      "text/plain": [
       "  day1 day2 s       \n",
       "1 2    12   currypan\n",
       "2 3    13   currypan\n",
       "3 8    18   currypan\n",
       "4 9    19   currypan"
      ]
     },
     "metadata": {},
     "output_type": "display_data"
    }
   ],
   "source": [
    "library(stringr)\n",
    "d  %>% filter(str_detect(s,\"^c\"))"
   ]
  },
  {
   "cell_type": "code",
   "execution_count": 11,
   "metadata": {
    "collapsed": false,
    "deletable": true,
    "editable": true
   },
   "outputs": [
    {
     "data": {
      "text/html": [
       "<table>\n",
       "<thead><tr><th scope=col>day1</th><th scope=col>day2</th><th scope=col>s</th></tr></thead>\n",
       "<tbody>\n",
       "\t<tr><td>2       </td><td>12      </td><td>currypan</td></tr>\n",
       "\t<tr><td>3       </td><td>13      </td><td>currypan</td></tr>\n",
       "\t<tr><td>4       </td><td>14      </td><td>syokupan</td></tr>\n",
       "\t<tr><td>6       </td><td>16      </td><td>syokupan</td></tr>\n",
       "\t<tr><td>7       </td><td>17      </td><td>syokupan</td></tr>\n",
       "\t<tr><td>8       </td><td>18      </td><td>currypan</td></tr>\n",
       "\t<tr><td>9       </td><td>19      </td><td>currypan</td></tr>\n",
       "</tbody>\n",
       "</table>\n"
      ],
      "text/latex": [
       "\\begin{tabular}{r|lll}\n",
       " day1 & day2 & s\\\\\n",
       "\\hline\n",
       "\t 2        & 12       & currypan\\\\\n",
       "\t 3        & 13       & currypan\\\\\n",
       "\t 4        & 14       & syokupan\\\\\n",
       "\t 6        & 16       & syokupan\\\\\n",
       "\t 7        & 17       & syokupan\\\\\n",
       "\t 8        & 18       & currypan\\\\\n",
       "\t 9        & 19       & currypan\\\\\n",
       "\\end{tabular}\n"
      ],
      "text/markdown": [
       "\n",
       "day1 | day2 | s | \n",
       "|---|---|---|---|---|---|---|\n",
       "| 2        | 12       | currypan | \n",
       "| 3        | 13       | currypan | \n",
       "| 4        | 14       | syokupan | \n",
       "| 6        | 16       | syokupan | \n",
       "| 7        | 17       | syokupan | \n",
       "| 8        | 18       | currypan | \n",
       "| 9        | 19       | currypan | \n",
       "\n",
       "\n"
      ],
      "text/plain": [
       "  day1 day2 s       \n",
       "1 2    12   currypan\n",
       "2 3    13   currypan\n",
       "3 4    14   syokupan\n",
       "4 6    16   syokupan\n",
       "5 7    17   syokupan\n",
       "6 8    18   currypan\n",
       "7 9    19   currypan"
      ]
     },
     "metadata": {},
     "output_type": "display_data"
    }
   ],
   "source": [
    "d  %>% filter(str_detect(s,\"u\")) # uが含まれる行を抽出"
   ]
  },
  {
   "cell_type": "code",
   "execution_count": 12,
   "metadata": {
    "collapsed": false,
    "deletable": true,
    "editable": true
   },
   "outputs": [
    {
     "data": {
      "text/html": [
       "<table>\n",
       "<thead><tr><th scope=col>day1</th><th scope=col>day2</th><th scope=col>s</th></tr></thead>\n",
       "<tbody>\n",
       "\t<tr><td>2       </td><td>12      </td><td>currypan</td></tr>\n",
       "\t<tr><td>3       </td><td>13      </td><td>currypan</td></tr>\n",
       "\t<tr><td>4       </td><td>14      </td><td>syokupan</td></tr>\n",
       "\t<tr><td>6       </td><td>16      </td><td>syokupan</td></tr>\n",
       "\t<tr><td>7       </td><td>17      </td><td>syokupan</td></tr>\n",
       "\t<tr><td>8       </td><td>18      </td><td>currypan</td></tr>\n",
       "\t<tr><td>9       </td><td>19      </td><td>currypan</td></tr>\n",
       "</tbody>\n",
       "</table>\n"
      ],
      "text/latex": [
       "\\begin{tabular}{r|lll}\n",
       " day1 & day2 & s\\\\\n",
       "\\hline\n",
       "\t 2        & 12       & currypan\\\\\n",
       "\t 3        & 13       & currypan\\\\\n",
       "\t 4        & 14       & syokupan\\\\\n",
       "\t 6        & 16       & syokupan\\\\\n",
       "\t 7        & 17       & syokupan\\\\\n",
       "\t 8        & 18       & currypan\\\\\n",
       "\t 9        & 19       & currypan\\\\\n",
       "\\end{tabular}\n"
      ],
      "text/markdown": [
       "\n",
       "day1 | day2 | s | \n",
       "|---|---|---|---|---|---|---|\n",
       "| 2        | 12       | currypan | \n",
       "| 3        | 13       | currypan | \n",
       "| 4        | 14       | syokupan | \n",
       "| 6        | 16       | syokupan | \n",
       "| 7        | 17       | syokupan | \n",
       "| 8        | 18       | currypan | \n",
       "| 9        | 19       | currypan | \n",
       "\n",
       "\n"
      ],
      "text/plain": [
       "  day1 day2 s       \n",
       "1 2    12   currypan\n",
       "2 3    13   currypan\n",
       "3 4    14   syokupan\n",
       "4 6    16   syokupan\n",
       "5 7    17   syokupan\n",
       "6 8    18   currypan\n",
       "7 9    19   currypan"
      ]
     },
     "metadata": {},
     "output_type": "display_data"
    }
   ],
   "source": [
    "d  %>% filter(s %in% c(\"currypan\",\"syokupan\")) "
   ]
  },
  {
   "cell_type": "code",
   "execution_count": 13,
   "metadata": {
    "collapsed": false,
    "deletable": true,
    "editable": true
   },
   "outputs": [
    {
     "data": {
      "text/html": [
       "<ol class=list-inline>\n",
       "\t<li>FALSE</li>\n",
       "\t<li>FALSE</li>\n",
       "\t<li>TRUE</li>\n",
       "\t<li>TRUE</li>\n",
       "\t<li>TRUE</li>\n",
       "\t<li>FALSE</li>\n",
       "\t<li>FALSE</li>\n",
       "\t<li>FALSE</li>\n",
       "\t<li>FALSE</li>\n",
       "\t<li>FALSE</li>\n",
       "</ol>\n"
      ],
      "text/latex": [
       "\\begin{enumerate*}\n",
       "\\item FALSE\n",
       "\\item FALSE\n",
       "\\item TRUE\n",
       "\\item TRUE\n",
       "\\item TRUE\n",
       "\\item FALSE\n",
       "\\item FALSE\n",
       "\\item FALSE\n",
       "\\item FALSE\n",
       "\\item FALSE\n",
       "\\end{enumerate*}\n"
      ],
      "text/markdown": [
       "1. FALSE\n",
       "2. FALSE\n",
       "3. TRUE\n",
       "4. TRUE\n",
       "5. TRUE\n",
       "6. FALSE\n",
       "7. FALSE\n",
       "8. FALSE\n",
       "9. FALSE\n",
       "10. FALSE\n",
       "\n",
       "\n"
      ],
      "text/plain": [
       " [1] FALSE FALSE  TRUE  TRUE  TRUE FALSE FALSE FALSE FALSE FALSE"
      ]
     },
     "metadata": {},
     "output_type": "display_data"
    }
   ],
   "source": [
    "1:10 %in% 3:5 # １から１０の各要素が右側の要素のどれかにマッチするか"
   ]
  },
  {
   "cell_type": "markdown",
   "metadata": {
    "deletable": true,
    "editable": true
   },
   "source": [
    "# select （列を抽出）"
   ]
  },
  {
   "cell_type": "code",
   "execution_count": 14,
   "metadata": {
    "collapsed": false,
    "deletable": true,
    "editable": true
   },
   "outputs": [
    {
     "data": {
      "text/html": [
       "<table>\n",
       "<thead><tr><th></th><th scope=col>day1</th></tr></thead>\n",
       "<tbody>\n",
       "\t<tr><th scope=row>a</th><td> 1</td></tr>\n",
       "\t<tr><th scope=row>b</th><td> 2</td></tr>\n",
       "\t<tr><th scope=row>c</th><td> 3</td></tr>\n",
       "\t<tr><th scope=row>d</th><td> 4</td></tr>\n",
       "\t<tr><th scope=row>e</th><td> 5</td></tr>\n",
       "\t<tr><th scope=row>f</th><td> 6</td></tr>\n",
       "\t<tr><th scope=row>g</th><td> 7</td></tr>\n",
       "\t<tr><th scope=row>h</th><td> 8</td></tr>\n",
       "\t<tr><th scope=row>i</th><td> 9</td></tr>\n",
       "\t<tr><th scope=row>j</th><td>10</td></tr>\n",
       "</tbody>\n",
       "</table>\n"
      ],
      "text/latex": [
       "\\begin{tabular}{r|l}\n",
       "  & day1\\\\\n",
       "\\hline\n",
       "\ta &  1\\\\\n",
       "\tb &  2\\\\\n",
       "\tc &  3\\\\\n",
       "\td &  4\\\\\n",
       "\te &  5\\\\\n",
       "\tf &  6\\\\\n",
       "\tg &  7\\\\\n",
       "\th &  8\\\\\n",
       "\ti &  9\\\\\n",
       "\tj & 10\\\\\n",
       "\\end{tabular}\n"
      ],
      "text/markdown": [
       "\n",
       "| <!--/--> | day1 | \n",
       "|---|---|---|---|---|---|---|---|---|---|\n",
       "| a |  1 | \n",
       "| b |  2 | \n",
       "| c |  3 | \n",
       "| d |  4 | \n",
       "| e |  5 | \n",
       "| f |  6 | \n",
       "| g |  7 | \n",
       "| h |  8 | \n",
       "| i |  9 | \n",
       "| j | 10 | \n",
       "\n",
       "\n"
      ],
      "text/plain": [
       "  day1\n",
       "a  1  \n",
       "b  2  \n",
       "c  3  \n",
       "d  4  \n",
       "e  5  \n",
       "f  6  \n",
       "g  7  \n",
       "h  8  \n",
       "i  9  \n",
       "j 10  "
      ]
     },
     "metadata": {},
     "output_type": "display_data"
    }
   ],
   "source": [
    "d  %>% dplyr::select(day1)\n",
    "\n"
   ]
  },
  {
   "cell_type": "code",
   "execution_count": 15,
   "metadata": {
    "collapsed": false,
    "deletable": true,
    "editable": true,
    "scrolled": true
   },
   "outputs": [
    {
     "data": {
      "text/html": [
       "<table>\n",
       "<thead><tr><th></th><th scope=col>day1</th><th scope=col>s</th></tr></thead>\n",
       "<tbody>\n",
       "\t<tr><th scope=row>a</th><td> 1      </td><td>anpan   </td></tr>\n",
       "\t<tr><th scope=row>b</th><td> 2      </td><td>currypan</td></tr>\n",
       "\t<tr><th scope=row>c</th><td> 3      </td><td>currypan</td></tr>\n",
       "\t<tr><th scope=row>d</th><td> 4      </td><td>syokupan</td></tr>\n",
       "\t<tr><th scope=row>e</th><td> 5      </td><td>anpan   </td></tr>\n",
       "\t<tr><th scope=row>f</th><td> 6      </td><td>syokupan</td></tr>\n",
       "\t<tr><th scope=row>g</th><td> 7      </td><td>syokupan</td></tr>\n",
       "\t<tr><th scope=row>h</th><td> 8      </td><td>currypan</td></tr>\n",
       "\t<tr><th scope=row>i</th><td> 9      </td><td>currypan</td></tr>\n",
       "\t<tr><th scope=row>j</th><td>10      </td><td>anpan   </td></tr>\n",
       "</tbody>\n",
       "</table>\n"
      ],
      "text/latex": [
       "\\begin{tabular}{r|ll}\n",
       "  & day1 & s\\\\\n",
       "\\hline\n",
       "\ta &  1       & anpan   \\\\\n",
       "\tb &  2       & currypan\\\\\n",
       "\tc &  3       & currypan\\\\\n",
       "\td &  4       & syokupan\\\\\n",
       "\te &  5       & anpan   \\\\\n",
       "\tf &  6       & syokupan\\\\\n",
       "\tg &  7       & syokupan\\\\\n",
       "\th &  8       & currypan\\\\\n",
       "\ti &  9       & currypan\\\\\n",
       "\tj & 10       & anpan   \\\\\n",
       "\\end{tabular}\n"
      ],
      "text/markdown": [
       "\n",
       "| <!--/--> | day1 | s | \n",
       "|---|---|---|---|---|---|---|---|---|---|\n",
       "| a |  1       | anpan    | \n",
       "| b |  2       | currypan | \n",
       "| c |  3       | currypan | \n",
       "| d |  4       | syokupan | \n",
       "| e |  5       | anpan    | \n",
       "| f |  6       | syokupan | \n",
       "| g |  7       | syokupan | \n",
       "| h |  8       | currypan | \n",
       "| i |  9       | currypan | \n",
       "| j | 10       | anpan    | \n",
       "\n",
       "\n"
      ],
      "text/plain": [
       "  day1 s       \n",
       "a  1   anpan   \n",
       "b  2   currypan\n",
       "c  3   currypan\n",
       "d  4   syokupan\n",
       "e  5   anpan   \n",
       "f  6   syokupan\n",
       "g  7   syokupan\n",
       "h  8   currypan\n",
       "i  9   currypan\n",
       "j 10   anpan   "
      ]
     },
     "metadata": {},
     "output_type": "display_data"
    }
   ],
   "source": [
    "d %>% dplyr::select(day1,s)"
   ]
  },
  {
   "cell_type": "markdown",
   "metadata": {
    "deletable": true,
    "editable": true
   },
   "source": [
    "# summarise　（集約する）"
   ]
  },
  {
   "cell_type": "code",
   "execution_count": 16,
   "metadata": {
    "collapsed": false,
    "deletable": true,
    "editable": true
   },
   "outputs": [
    {
     "data": {
      "text/html": [
       "<table>\n",
       "<thead><tr><th scope=col>mean(day1)</th><th scope=col>mean(day2)</th></tr></thead>\n",
       "<tbody>\n",
       "\t<tr><td>5.5 </td><td>15.5</td></tr>\n",
       "</tbody>\n",
       "</table>\n"
      ],
      "text/latex": [
       "\\begin{tabular}{r|ll}\n",
       " mean(day1) & mean(day2)\\\\\n",
       "\\hline\n",
       "\t 5.5  & 15.5\\\\\n",
       "\\end{tabular}\n"
      ],
      "text/markdown": [
       "\n",
       "mean(day1) | mean(day2) | \n",
       "|---|\n",
       "| 5.5  | 15.5 | \n",
       "\n",
       "\n"
      ],
      "text/plain": [
       "  mean(day1) mean(day2)\n",
       "1 5.5        15.5      "
      ]
     },
     "metadata": {},
     "output_type": "display_data"
    }
   ],
   "source": [
    "d %>% dplyr::summarize(mean(day1),mean(day2))"
   ]
  },
  {
   "cell_type": "markdown",
   "metadata": {
    "deletable": true,
    "editable": true
   },
   "source": [
    "## summarise_each"
   ]
  },
  {
   "cell_type": "code",
   "execution_count": 17,
   "metadata": {
    "collapsed": false,
    "deletable": true,
    "editable": true,
    "scrolled": true
   },
   "outputs": [
    {
     "data": {
      "text/html": [
       "<table>\n",
       "<thead><tr><th scope=col>day1_max</th><th scope=col>day2_max</th><th scope=col>day1_min</th><th scope=col>day2_min</th><th scope=col>day1_mean</th><th scope=col>day2_mean</th></tr></thead>\n",
       "<tbody>\n",
       "\t<tr><td>10  </td><td>20  </td><td>1   </td><td>11  </td><td>5.5 </td><td>15.5</td></tr>\n",
       "</tbody>\n",
       "</table>\n"
      ],
      "text/latex": [
       "\\begin{tabular}{r|llllll}\n",
       " day1\\_max & day2\\_max & day1\\_min & day2\\_min & day1\\_mean & day2\\_mean\\\\\n",
       "\\hline\n",
       "\t 10   & 20   & 1    & 11   & 5.5  & 15.5\\\\\n",
       "\\end{tabular}\n"
      ],
      "text/markdown": [
       "\n",
       "day1_max | day2_max | day1_min | day2_min | day1_mean | day2_mean | \n",
       "|---|\n",
       "| 10   | 20   | 1    | 11   | 5.5  | 15.5 | \n",
       "\n",
       "\n"
      ],
      "text/plain": [
       "  day1_max day2_max day1_min day2_min day1_mean day2_mean\n",
       "1 10       20       1        11       5.5       15.5     "
      ]
     },
     "metadata": {},
     "output_type": "display_data"
    }
   ],
   "source": [
    "d %>% summarise_each(funs(max,min,mean),day1,day2)"
   ]
  },
  {
   "cell_type": "markdown",
   "metadata": {
    "deletable": true,
    "editable": true
   },
   "source": [
    "## group_by　（グルーピング）"
   ]
  },
  {
   "cell_type": "code",
   "execution_count": 18,
   "metadata": {
    "collapsed": false,
    "deletable": true,
    "editable": true
   },
   "outputs": [
    {
     "data": {
      "text/html": [
       "<table>\n",
       "<thead><tr><th></th><th scope=col>day1</th><th scope=col>day2</th><th scope=col>s</th></tr></thead>\n",
       "<tbody>\n",
       "\t<tr><th scope=row>a</th><td> 1      </td><td>11      </td><td>anpan   </td></tr>\n",
       "\t<tr><th scope=row>b</th><td> 2      </td><td>12      </td><td>currypan</td></tr>\n",
       "\t<tr><th scope=row>c</th><td> 3      </td><td>13      </td><td>currypan</td></tr>\n",
       "\t<tr><th scope=row>d</th><td> 4      </td><td>14      </td><td>syokupan</td></tr>\n",
       "\t<tr><th scope=row>e</th><td> 5      </td><td>15      </td><td>anpan   </td></tr>\n",
       "\t<tr><th scope=row>f</th><td> 6      </td><td>16      </td><td>syokupan</td></tr>\n",
       "\t<tr><th scope=row>g</th><td> 7      </td><td>17      </td><td>syokupan</td></tr>\n",
       "\t<tr><th scope=row>h</th><td> 8      </td><td>18      </td><td>currypan</td></tr>\n",
       "\t<tr><th scope=row>i</th><td> 9      </td><td>19      </td><td>currypan</td></tr>\n",
       "\t<tr><th scope=row>j</th><td>10      </td><td>20      </td><td>anpan   </td></tr>\n",
       "</tbody>\n",
       "</table>\n"
      ],
      "text/latex": [
       "\\begin{tabular}{r|lll}\n",
       "  & day1 & day2 & s\\\\\n",
       "\\hline\n",
       "\ta &  1       & 11       & anpan   \\\\\n",
       "\tb &  2       & 12       & currypan\\\\\n",
       "\tc &  3       & 13       & currypan\\\\\n",
       "\td &  4       & 14       & syokupan\\\\\n",
       "\te &  5       & 15       & anpan   \\\\\n",
       "\tf &  6       & 16       & syokupan\\\\\n",
       "\tg &  7       & 17       & syokupan\\\\\n",
       "\th &  8       & 18       & currypan\\\\\n",
       "\ti &  9       & 19       & currypan\\\\\n",
       "\tj & 10       & 20       & anpan   \\\\\n",
       "\\end{tabular}\n"
      ],
      "text/markdown": [
       "\n",
       "| <!--/--> | day1 | day2 | s | \n",
       "|---|---|---|---|---|---|---|---|---|---|\n",
       "| a |  1       | 11       | anpan    | \n",
       "| b |  2       | 12       | currypan | \n",
       "| c |  3       | 13       | currypan | \n",
       "| d |  4       | 14       | syokupan | \n",
       "| e |  5       | 15       | anpan    | \n",
       "| f |  6       | 16       | syokupan | \n",
       "| g |  7       | 17       | syokupan | \n",
       "| h |  8       | 18       | currypan | \n",
       "| i |  9       | 19       | currypan | \n",
       "| j | 10       | 20       | anpan    | \n",
       "\n",
       "\n"
      ],
      "text/plain": [
       "  day1 day2 s       \n",
       "a  1   11   anpan   \n",
       "b  2   12   currypan\n",
       "c  3   13   currypan\n",
       "d  4   14   syokupan\n",
       "e  5   15   anpan   \n",
       "f  6   16   syokupan\n",
       "g  7   17   syokupan\n",
       "h  8   18   currypan\n",
       "i  9   19   currypan\n",
       "j 10   20   anpan   "
      ]
     },
     "metadata": {},
     "output_type": "display_data"
    }
   ],
   "source": [
    "d %>% \n",
    "    dplyr::group_by(s)  \n"
   ]
  },
  {
   "cell_type": "markdown",
   "metadata": {
    "deletable": true,
    "editable": true
   },
   "source": [
    "## arrange （並び替え）"
   ]
  },
  {
   "cell_type": "code",
   "execution_count": 19,
   "metadata": {
    "collapsed": false,
    "deletable": true,
    "editable": true,
    "scrolled": true
   },
   "outputs": [
    {
     "data": {
      "text/html": [
       "<table>\n",
       "<thead><tr><th scope=col>day1</th><th scope=col>day2</th><th scope=col>s</th></tr></thead>\n",
       "<tbody>\n",
       "\t<tr><td>10      </td><td>20      </td><td>anpan   </td></tr>\n",
       "\t<tr><td> 9      </td><td>19      </td><td>currypan</td></tr>\n",
       "\t<tr><td> 8      </td><td>18      </td><td>currypan</td></tr>\n",
       "\t<tr><td> 7      </td><td>17      </td><td>syokupan</td></tr>\n",
       "\t<tr><td> 6      </td><td>16      </td><td>syokupan</td></tr>\n",
       "\t<tr><td> 5      </td><td>15      </td><td>anpan   </td></tr>\n",
       "\t<tr><td> 4      </td><td>14      </td><td>syokupan</td></tr>\n",
       "\t<tr><td> 3      </td><td>13      </td><td>currypan</td></tr>\n",
       "\t<tr><td> 2      </td><td>12      </td><td>currypan</td></tr>\n",
       "\t<tr><td> 1      </td><td>11      </td><td>anpan   </td></tr>\n",
       "</tbody>\n",
       "</table>\n"
      ],
      "text/latex": [
       "\\begin{tabular}{r|lll}\n",
       " day1 & day2 & s\\\\\n",
       "\\hline\n",
       "\t 10       & 20       & anpan   \\\\\n",
       "\t  9       & 19       & currypan\\\\\n",
       "\t  8       & 18       & currypan\\\\\n",
       "\t  7       & 17       & syokupan\\\\\n",
       "\t  6       & 16       & syokupan\\\\\n",
       "\t  5       & 15       & anpan   \\\\\n",
       "\t  4       & 14       & syokupan\\\\\n",
       "\t  3       & 13       & currypan\\\\\n",
       "\t  2       & 12       & currypan\\\\\n",
       "\t  1       & 11       & anpan   \\\\\n",
       "\\end{tabular}\n"
      ],
      "text/markdown": [
       "\n",
       "day1 | day2 | s | \n",
       "|---|---|---|---|---|---|---|---|---|---|\n",
       "| 10       | 20       | anpan    | \n",
       "|  9       | 19       | currypan | \n",
       "|  8       | 18       | currypan | \n",
       "|  7       | 17       | syokupan | \n",
       "|  6       | 16       | syokupan | \n",
       "|  5       | 15       | anpan    | \n",
       "|  4       | 14       | syokupan | \n",
       "|  3       | 13       | currypan | \n",
       "|  2       | 12       | currypan | \n",
       "|  1       | 11       | anpan    | \n",
       "\n",
       "\n"
      ],
      "text/plain": [
       "   day1 day2 s       \n",
       "1  10   20   anpan   \n",
       "2   9   19   currypan\n",
       "3   8   18   currypan\n",
       "4   7   17   syokupan\n",
       "5   6   16   syokupan\n",
       "6   5   15   anpan   \n",
       "7   4   14   syokupan\n",
       "8   3   13   currypan\n",
       "9   2   12   currypan\n",
       "10  1   11   anpan   "
      ]
     },
     "metadata": {},
     "output_type": "display_data"
    }
   ],
   "source": [
    "d  %>%  dplyr::arrange(desc(day1))  ->d_arrange  #降順並び替え\n",
    "\n",
    "d_arrange"
   ]
  },
  {
   "cell_type": "code",
   "execution_count": 20,
   "metadata": {
    "collapsed": false,
    "deletable": true,
    "editable": true
   },
   "outputs": [
    {
     "data": {
      "text/html": [
       "<table>\n",
       "<thead><tr><th scope=col>day1</th><th scope=col>day2</th><th scope=col>s</th></tr></thead>\n",
       "<tbody>\n",
       "\t<tr><td> 1      </td><td>11      </td><td>anpan   </td></tr>\n",
       "\t<tr><td> 2      </td><td>12      </td><td>currypan</td></tr>\n",
       "\t<tr><td> 3      </td><td>13      </td><td>currypan</td></tr>\n",
       "\t<tr><td> 4      </td><td>14      </td><td>syokupan</td></tr>\n",
       "\t<tr><td> 5      </td><td>15      </td><td>anpan   </td></tr>\n",
       "\t<tr><td> 6      </td><td>16      </td><td>syokupan</td></tr>\n",
       "\t<tr><td> 7      </td><td>17      </td><td>syokupan</td></tr>\n",
       "\t<tr><td> 8      </td><td>18      </td><td>currypan</td></tr>\n",
       "\t<tr><td> 9      </td><td>19      </td><td>currypan</td></tr>\n",
       "\t<tr><td>10      </td><td>20      </td><td>anpan   </td></tr>\n",
       "</tbody>\n",
       "</table>\n"
      ],
      "text/latex": [
       "\\begin{tabular}{r|lll}\n",
       " day1 & day2 & s\\\\\n",
       "\\hline\n",
       "\t  1       & 11       & anpan   \\\\\n",
       "\t  2       & 12       & currypan\\\\\n",
       "\t  3       & 13       & currypan\\\\\n",
       "\t  4       & 14       & syokupan\\\\\n",
       "\t  5       & 15       & anpan   \\\\\n",
       "\t  6       & 16       & syokupan\\\\\n",
       "\t  7       & 17       & syokupan\\\\\n",
       "\t  8       & 18       & currypan\\\\\n",
       "\t  9       & 19       & currypan\\\\\n",
       "\t 10       & 20       & anpan   \\\\\n",
       "\\end{tabular}\n"
      ],
      "text/markdown": [
       "\n",
       "day1 | day2 | s | \n",
       "|---|---|---|---|---|---|---|---|---|---|\n",
       "|  1       | 11       | anpan    | \n",
       "|  2       | 12       | currypan | \n",
       "|  3       | 13       | currypan | \n",
       "|  4       | 14       | syokupan | \n",
       "|  5       | 15       | anpan    | \n",
       "|  6       | 16       | syokupan | \n",
       "|  7       | 17       | syokupan | \n",
       "|  8       | 18       | currypan | \n",
       "|  9       | 19       | currypan | \n",
       "| 10       | 20       | anpan    | \n",
       "\n",
       "\n"
      ],
      "text/plain": [
       "   day1 day2 s       \n",
       "1   1   11   anpan   \n",
       "2   2   12   currypan\n",
       "3   3   13   currypan\n",
       "4   4   14   syokupan\n",
       "5   5   15   anpan   \n",
       "6   6   16   syokupan\n",
       "7   7   17   syokupan\n",
       "8   8   18   currypan\n",
       "9   9   19   currypan\n",
       "10 10   20   anpan   "
      ]
     },
     "metadata": {},
     "output_type": "display_data"
    }
   ],
   "source": [
    "d_arrange  %>% dplyr::arrange(day1) #昇順並び替え"
   ]
  },
  {
   "cell_type": "markdown",
   "metadata": {
    "deletable": true,
    "editable": true
   },
   "source": [
    "## mutate （列の追加）"
   ]
  },
  {
   "cell_type": "code",
   "execution_count": 21,
   "metadata": {
    "collapsed": false,
    "deletable": true,
    "editable": true
   },
   "outputs": [
    {
     "data": {
      "text/html": [
       "<table>\n",
       "<thead><tr><th scope=col>day1</th><th scope=col>day2</th><th scope=col>s</th><th scope=col>new_column</th></tr></thead>\n",
       "<tbody>\n",
       "\t<tr><td> 1      </td><td>11      </td><td>anpan   </td><td>0       </td></tr>\n",
       "\t<tr><td> 2      </td><td>12      </td><td>currypan</td><td>0       </td></tr>\n",
       "\t<tr><td> 3      </td><td>13      </td><td>currypan</td><td>0       </td></tr>\n",
       "\t<tr><td> 4      </td><td>14      </td><td>syokupan</td><td>0       </td></tr>\n",
       "\t<tr><td> 5      </td><td>15      </td><td>anpan   </td><td>0       </td></tr>\n",
       "\t<tr><td> 6      </td><td>16      </td><td>syokupan</td><td>1       </td></tr>\n",
       "\t<tr><td> 7      </td><td>17      </td><td>syokupan</td><td>1       </td></tr>\n",
       "\t<tr><td> 8      </td><td>18      </td><td>currypan</td><td>1       </td></tr>\n",
       "\t<tr><td> 9      </td><td>19      </td><td>currypan</td><td>1       </td></tr>\n",
       "\t<tr><td>10      </td><td>20      </td><td>anpan   </td><td>1       </td></tr>\n",
       "</tbody>\n",
       "</table>\n"
      ],
      "text/latex": [
       "\\begin{tabular}{r|llll}\n",
       " day1 & day2 & s & new\\_column\\\\\n",
       "\\hline\n",
       "\t  1       & 11       & anpan    & 0       \\\\\n",
       "\t  2       & 12       & currypan & 0       \\\\\n",
       "\t  3       & 13       & currypan & 0       \\\\\n",
       "\t  4       & 14       & syokupan & 0       \\\\\n",
       "\t  5       & 15       & anpan    & 0       \\\\\n",
       "\t  6       & 16       & syokupan & 1       \\\\\n",
       "\t  7       & 17       & syokupan & 1       \\\\\n",
       "\t  8       & 18       & currypan & 1       \\\\\n",
       "\t  9       & 19       & currypan & 1       \\\\\n",
       "\t 10       & 20       & anpan    & 1       \\\\\n",
       "\\end{tabular}\n"
      ],
      "text/markdown": [
       "\n",
       "day1 | day2 | s | new_column | \n",
       "|---|---|---|---|---|---|---|---|---|---|\n",
       "|  1       | 11       | anpan    | 0        | \n",
       "|  2       | 12       | currypan | 0        | \n",
       "|  3       | 13       | currypan | 0        | \n",
       "|  4       | 14       | syokupan | 0        | \n",
       "|  5       | 15       | anpan    | 0        | \n",
       "|  6       | 16       | syokupan | 1        | \n",
       "|  7       | 17       | syokupan | 1        | \n",
       "|  8       | 18       | currypan | 1        | \n",
       "|  9       | 19       | currypan | 1        | \n",
       "| 10       | 20       | anpan    | 1        | \n",
       "\n",
       "\n"
      ],
      "text/plain": [
       "   day1 day2 s        new_column\n",
       "1   1   11   anpan    0         \n",
       "2   2   12   currypan 0         \n",
       "3   3   13   currypan 0         \n",
       "4   4   14   syokupan 0         \n",
       "5   5   15   anpan    0         \n",
       "6   6   16   syokupan 1         \n",
       "7   7   17   syokupan 1         \n",
       "8   8   18   currypan 1         \n",
       "9   9   19   currypan 1         \n",
       "10 10   20   anpan    1         "
      ]
     },
     "metadata": {},
     "output_type": "display_data"
    }
   ],
   "source": [
    "d  %>% dplyr::mutate(new_column=ifelse(day2 >15,1,0))"
   ]
  },
  {
   "cell_type": "code",
   "execution_count": 22,
   "metadata": {
    "collapsed": false,
    "deletable": true,
    "editable": true
   },
   "outputs": [
    {
     "data": {
      "text/html": [
       "<table>\n",
       "<thead><tr><th scope=col>day1</th><th scope=col>day2</th><th scope=col>s</th><th scope=col>new_column</th><th scope=col>new</th></tr></thead>\n",
       "<tbody>\n",
       "\t<tr><td> 1      </td><td>11      </td><td>anpan   </td><td>0       </td><td>0       </td></tr>\n",
       "\t<tr><td> 2      </td><td>12      </td><td>currypan</td><td>0       </td><td>0       </td></tr>\n",
       "\t<tr><td> 3      </td><td>13      </td><td>currypan</td><td>0       </td><td>0       </td></tr>\n",
       "\t<tr><td> 4      </td><td>14      </td><td>syokupan</td><td>0       </td><td>0       </td></tr>\n",
       "\t<tr><td> 5      </td><td>15      </td><td>anpan   </td><td>0       </td><td>0       </td></tr>\n",
       "\t<tr><td> 6      </td><td>16      </td><td>syokupan</td><td>1       </td><td>2       </td></tr>\n",
       "\t<tr><td> 7      </td><td>17      </td><td>syokupan</td><td>1       </td><td>2       </td></tr>\n",
       "\t<tr><td> 8      </td><td>18      </td><td>currypan</td><td>1       </td><td>2       </td></tr>\n",
       "\t<tr><td> 9      </td><td>19      </td><td>currypan</td><td>1       </td><td>2       </td></tr>\n",
       "\t<tr><td>10      </td><td>20      </td><td>anpan   </td><td>1       </td><td>2       </td></tr>\n",
       "</tbody>\n",
       "</table>\n"
      ],
      "text/latex": [
       "\\begin{tabular}{r|lllll}\n",
       " day1 & day2 & s & new\\_column & new\\\\\n",
       "\\hline\n",
       "\t  1       & 11       & anpan    & 0        & 0       \\\\\n",
       "\t  2       & 12       & currypan & 0        & 0       \\\\\n",
       "\t  3       & 13       & currypan & 0        & 0       \\\\\n",
       "\t  4       & 14       & syokupan & 0        & 0       \\\\\n",
       "\t  5       & 15       & anpan    & 0        & 0       \\\\\n",
       "\t  6       & 16       & syokupan & 1        & 2       \\\\\n",
       "\t  7       & 17       & syokupan & 1        & 2       \\\\\n",
       "\t  8       & 18       & currypan & 1        & 2       \\\\\n",
       "\t  9       & 19       & currypan & 1        & 2       \\\\\n",
       "\t 10       & 20       & anpan    & 1        & 2       \\\\\n",
       "\\end{tabular}\n"
      ],
      "text/markdown": [
       "\n",
       "day1 | day2 | s | new_column | new | \n",
       "|---|---|---|---|---|---|---|---|---|---|\n",
       "|  1       | 11       | anpan    | 0        | 0        | \n",
       "|  2       | 12       | currypan | 0        | 0        | \n",
       "|  3       | 13       | currypan | 0        | 0        | \n",
       "|  4       | 14       | syokupan | 0        | 0        | \n",
       "|  5       | 15       | anpan    | 0        | 0        | \n",
       "|  6       | 16       | syokupan | 1        | 2        | \n",
       "|  7       | 17       | syokupan | 1        | 2        | \n",
       "|  8       | 18       | currypan | 1        | 2        | \n",
       "|  9       | 19       | currypan | 1        | 2        | \n",
       "| 10       | 20       | anpan    | 1        | 2        | \n",
       "\n",
       "\n"
      ],
      "text/plain": [
       "   day1 day2 s        new_column new\n",
       "1   1   11   anpan    0          0  \n",
       "2   2   12   currypan 0          0  \n",
       "3   3   13   currypan 0          0  \n",
       "4   4   14   syokupan 0          0  \n",
       "5   5   15   anpan    0          0  \n",
       "6   6   16   syokupan 1          2  \n",
       "7   7   17   syokupan 1          2  \n",
       "8   8   18   currypan 1          2  \n",
       "9   9   19   currypan 1          2  \n",
       "10 10   20   anpan    1          2  "
      ]
     },
     "metadata": {},
     "output_type": "display_data"
    }
   ],
   "source": [
    "#新しい列をキーに列を追加することも可能\n",
    "dplyr::mutate(d,new_column=ifelse(day2 >15,1,0),new=ifelse(new_column==1,2,0))"
   ]
  },
  {
   "cell_type": "code",
   "execution_count": null,
   "metadata": {
    "collapsed": true,
    "deletable": true,
    "editable": true
   },
   "outputs": [],
   "source": []
  },
  {
   "cell_type": "markdown",
   "metadata": {
    "deletable": true,
    "editable": true
   },
   "source": [
    "***\n",
    "# 組み合わせて使う\n",
    "## キャラごとのパトロール距離を求める"
   ]
  },
  {
   "cell_type": "code",
   "execution_count": 23,
   "metadata": {
    "collapsed": false,
    "deletable": true,
    "editable": true
   },
   "outputs": [
    {
     "data": {
      "text/html": [
       "<table>\n",
       "<thead><tr><th scope=col>s</th><th scope=col>sum(day1)</th><th scope=col>sum(day2)</th></tr></thead>\n",
       "<tbody>\n",
       "\t<tr><td>anpan   </td><td>16      </td><td>46      </td></tr>\n",
       "\t<tr><td>currypan</td><td>22      </td><td>62      </td></tr>\n",
       "\t<tr><td>syokupan</td><td>17      </td><td>47      </td></tr>\n",
       "</tbody>\n",
       "</table>\n"
      ],
      "text/latex": [
       "\\begin{tabular}{r|lll}\n",
       " s & sum(day1) & sum(day2)\\\\\n",
       "\\hline\n",
       "\t anpan    & 16       & 46      \\\\\n",
       "\t currypan & 22       & 62      \\\\\n",
       "\t syokupan & 17       & 47      \\\\\n",
       "\\end{tabular}\n"
      ],
      "text/markdown": [
       "\n",
       "s | sum(day1) | sum(day2) | \n",
       "|---|---|---|\n",
       "| anpan    | 16       | 46       | \n",
       "| currypan | 22       | 62       | \n",
       "| syokupan | 17       | 47       | \n",
       "\n",
       "\n"
      ],
      "text/plain": [
       "  s        sum(day1) sum(day2)\n",
       "1 anpan    16        46       \n",
       "2 currypan 22        62       \n",
       "3 syokupan 17        47       "
      ]
     },
     "metadata": {},
     "output_type": "display_data"
    }
   ],
   "source": [
    "d %>% dplyr::group_by(s)　%>% \n",
    "            dplyr::summarize(sum(day1),sum(day2) )"
   ]
  },
  {
   "cell_type": "code",
   "execution_count": 24,
   "metadata": {
    "collapsed": false,
    "deletable": true,
    "editable": true
   },
   "outputs": [
    {
     "data": {
      "text/html": [
       "<table>\n",
       "<thead><tr><th scope=col>s</th><th scope=col>sum(day1)</th><th scope=col>sum(day2)</th><th scope=col>sum(day3)</th></tr></thead>\n",
       "<tbody>\n",
       "\t<tr><td>anpan   </td><td>16      </td><td>46      </td><td>32      </td></tr>\n",
       "\t<tr><td>currypan</td><td>22      </td><td>62      </td><td>44      </td></tr>\n",
       "\t<tr><td>syokupan</td><td>17      </td><td>47      </td><td>34      </td></tr>\n",
       "</tbody>\n",
       "</table>\n"
      ],
      "text/latex": [
       "\\begin{tabular}{r|llll}\n",
       " s & sum(day1) & sum(day2) & sum(day3)\\\\\n",
       "\\hline\n",
       "\t anpan    & 16       & 46       & 32      \\\\\n",
       "\t currypan & 22       & 62       & 44      \\\\\n",
       "\t syokupan & 17       & 47       & 34      \\\\\n",
       "\\end{tabular}\n"
      ],
      "text/markdown": [
       "\n",
       "s | sum(day1) | sum(day2) | sum(day3) | \n",
       "|---|---|---|\n",
       "| anpan    | 16       | 46       | 32       | \n",
       "| currypan | 22       | 62       | 44       | \n",
       "| syokupan | 17       | 47       | 34       | \n",
       "\n",
       "\n"
      ],
      "text/plain": [
       "  s        sum(day1) sum(day2) sum(day3)\n",
       "1 anpan    16        46        32       \n",
       "2 currypan 22        62        44       \n",
       "3 syokupan 17        47        34       "
      ]
     },
     "metadata": {},
     "output_type": "display_data"
    }
   ],
   "source": [
    "d %>% dplyr::mutate(\"day3\" =day1*2) %>% \n",
    "    dplyr::group_by(s) %>% \n",
    "    dplyr::summarize(sum(day1),sum(day2),sum(day3))"
   ]
  }
 ],
 "metadata": {
  "kernelspec": {
   "display_name": "R",
   "language": "R",
   "name": "ir"
  },
  "language_info": {
   "codemirror_mode": "r",
   "file_extension": ".r",
   "mimetype": "text/x-r-source",
   "name": "R",
   "pygments_lexer": "r",
   "version": "3.2.3"
  }
 },
 "nbformat": 4,
 "nbformat_minor": 2
}
