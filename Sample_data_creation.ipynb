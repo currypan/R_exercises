{
 "cells": [
  {
   "cell_type": "markdown",
   "metadata": {
    "deletable": true,
    "editable": true
   },
   "source": [
    "http://rtoukei.hatenablog.com/entry/2017/03/19/210129\n",
    "の実行結果ノート"
   ]
  },
  {
   "cell_type": "markdown",
   "metadata": {
    "deletable": true,
    "editable": true
   },
   "source": [
    "## 練習"
   ]
  },
  {
   "cell_type": "code",
   "execution_count": 5,
   "metadata": {
    "collapsed": false,
    "deletable": true,
    "editable": true,
    "scrolled": true
   },
   "outputs": [
    {
     "data": {
      "text/html": [
       "<ol class=list-inline>\n",
       "\t<li>1</li>\n",
       "\t<li>0</li>\n",
       "\t<li>0</li>\n",
       "\t<li>1</li>\n",
       "\t<li>0</li>\n",
       "\t<li>1</li>\n",
       "\t<li>0</li>\n",
       "\t<li>0</li>\n",
       "\t<li>1</li>\n",
       "\t<li>1</li>\n",
       "</ol>\n"
      ],
      "text/latex": [
       "\\begin{enumerate*}\n",
       "\\item 1\n",
       "\\item 0\n",
       "\\item 0\n",
       "\\item 1\n",
       "\\item 0\n",
       "\\item 1\n",
       "\\item 0\n",
       "\\item 0\n",
       "\\item 1\n",
       "\\item 1\n",
       "\\end{enumerate*}\n"
      ],
      "text/markdown": [
       "1. 1\n",
       "2. 0\n",
       "3. 0\n",
       "4. 1\n",
       "5. 0\n",
       "6. 1\n",
       "7. 0\n",
       "8. 0\n",
       "9. 1\n",
       "10. 1\n",
       "\n",
       "\n"
      ],
      "text/plain": [
       " [1] 1 0 0 1 0 1 0 0 1 1"
      ]
     },
     "metadata": {},
     "output_type": "display_data"
    }
   ],
   "source": [
    "n <- 10 # クラスの人数を10人とする\n",
    "pre <- runif(n,min=-1,max=1) # 一様分布から乱数を作成\n",
    "ceiling(pre) # preを切り上げて、0と１にする\n"
   ]
  },
  {
   "cell_type": "code",
   "execution_count": 6,
   "metadata": {
    "collapsed": false,
    "deletable": true,
    "editable": true,
    "scrolled": true
   },
   "outputs": [
    {
     "data": {
      "text/html": [
       "<ol class=list-inline>\n",
       "\t<li>0</li>\n",
       "\t<li>0</li>\n",
       "\t<li>0</li>\n",
       "\t<li>0</li>\n",
       "\t<li>1</li>\n",
       "\t<li>0</li>\n",
       "\t<li>1</li>\n",
       "\t<li>0</li>\n",
       "\t<li>1</li>\n",
       "\t<li>1</li>\n",
       "</ol>\n"
      ],
      "text/latex": [
       "\\begin{enumerate*}\n",
       "\\item 0\n",
       "\\item 0\n",
       "\\item 0\n",
       "\\item 0\n",
       "\\item 1\n",
       "\\item 0\n",
       "\\item 1\n",
       "\\item 0\n",
       "\\item 1\n",
       "\\item 1\n",
       "\\end{enumerate*}\n"
      ],
      "text/markdown": [
       "1. 0\n",
       "2. 0\n",
       "3. 0\n",
       "4. 0\n",
       "5. 1\n",
       "6. 0\n",
       "7. 1\n",
       "8. 0\n",
       "9. 1\n",
       "10. 1\n",
       "\n",
       "\n"
      ],
      "text/plain": [
       " [1] 0 0 0 0 1 0 1 0 1 1"
      ]
     },
     "metadata": {},
     "output_type": "display_data"
    },
    {
     "data": {
      "text/html": [
       "<ol class=list-inline>\n",
       "\t<li>0</li>\n",
       "\t<li>0</li>\n",
       "\t<li>0</li>\n",
       "\t<li>0</li>\n",
       "\t<li>1</li>\n",
       "\t<li>1</li>\n",
       "\t<li>1</li>\n",
       "\t<li>0</li>\n",
       "\t<li>1</li>\n",
       "\t<li>1</li>\n",
       "</ol>\n"
      ],
      "text/latex": [
       "\\begin{enumerate*}\n",
       "\\item 0\n",
       "\\item 0\n",
       "\\item 0\n",
       "\\item 0\n",
       "\\item 1\n",
       "\\item 1\n",
       "\\item 1\n",
       "\\item 0\n",
       "\\item 1\n",
       "\\item 1\n",
       "\\end{enumerate*}\n"
      ],
      "text/markdown": [
       "1. 0\n",
       "2. 0\n",
       "3. 0\n",
       "4. 0\n",
       "5. 1\n",
       "6. 1\n",
       "7. 1\n",
       "8. 0\n",
       "9. 1\n",
       "10. 1\n",
       "\n",
       "\n"
      ],
      "text/plain": [
       " [1] 0 0 0 0 1 1 1 0 1 1"
      ]
     },
     "metadata": {},
     "output_type": "display_data"
    },
    {
     "data": {
      "text/html": [
       "<ol class=list-inline>\n",
       "\t<li>0</li>\n",
       "\t<li>0</li>\n",
       "\t<li>0</li>\n",
       "\t<li>0</li>\n",
       "\t<li>0</li>\n",
       "\t<li>0</li>\n",
       "\t<li>1</li>\n",
       "\t<li>0</li>\n",
       "\t<li>0</li>\n",
       "\t<li>1</li>\n",
       "</ol>\n"
      ],
      "text/latex": [
       "\\begin{enumerate*}\n",
       "\\item 0\n",
       "\\item 0\n",
       "\\item 0\n",
       "\\item 0\n",
       "\\item 0\n",
       "\\item 0\n",
       "\\item 1\n",
       "\\item 0\n",
       "\\item 0\n",
       "\\item 1\n",
       "\\end{enumerate*}\n"
      ],
      "text/markdown": [
       "1. 0\n",
       "2. 0\n",
       "3. 0\n",
       "4. 0\n",
       "5. 0\n",
       "6. 0\n",
       "7. 1\n",
       "8. 0\n",
       "9. 0\n",
       "10. 1\n",
       "\n",
       "\n"
      ],
      "text/plain": [
       " [1] 0 0 0 0 0 0 1 0 0 1"
      ]
     },
     "metadata": {},
     "output_type": "display_data"
    }
   ],
   "source": [
    "sample(c(1,0),size=n,replace=TRUE) #ランダムでトリートメントグループとコントロールグループに分ける \n",
    "sample(rep(c(1,0),times=n/2),size=n) # 半分ずつトリートメントグループとコントロールグループに分ける\n",
    "sample(rep(c(1,0),times=c(2,8)),size=n) #2人、8人のトリートメントグループとコントロールグループに分ける\n"
   ]
  },
  {
   "cell_type": "markdown",
   "metadata": {
    "deletable": true,
    "editable": true
   },
   "source": [
    "## サンプル作成"
   ]
  },
  {
   "cell_type": "code",
   "execution_count": 7,
   "metadata": {
    "collapsed": false,
    "deletable": true,
    "editable": true
   },
   "outputs": [
    {
     "data": {
      "text/html": [
       "<table>\n",
       "<thead><tr><th scope=col>Tvol</th><th scope=col>n</th><th scope=col>mean</th></tr></thead>\n",
       "<tbody>\n",
       "\t<tr><td>0       </td><td>21      </td><td>63.04762</td></tr>\n",
       "\t<tr><td>1       </td><td>19      </td><td>80.47368</td></tr>\n",
       "</tbody>\n",
       "</table>\n"
      ],
      "text/latex": [
       "\\begin{tabular}{r|lll}\n",
       " Tvol & n & mean\\\\\n",
       "\\hline\n",
       "\t 0        & 21       & 63.04762\\\\\n",
       "\t 1        & 19       & 80.47368\\\\\n",
       "\\end{tabular}\n"
      ],
      "text/markdown": [
       "\n",
       "Tvol | n | mean | \n",
       "|---|---|\n",
       "| 0        | 21       | 63.04762 | \n",
       "| 1        | 19       | 80.47368 | \n",
       "\n",
       "\n"
      ],
      "text/plain": [
       "  Tvol n  mean    \n",
       "1 0    21 63.04762\n",
       "2 1    19 80.47368"
      ]
     },
     "metadata": {},
     "output_type": "display_data"
    },
    {
     "data": {
      "text/html": [
       "<table>\n",
       "<thead><tr><th scope=col>Trand</th><th scope=col>n</th><th scope=col>mean</th></tr></thead>\n",
       "<tbody>\n",
       "\t<tr><td>0       </td><td>23      </td><td>72.00000</td></tr>\n",
       "\t<tr><td>1       </td><td>17      </td><td>69.94118</td></tr>\n",
       "</tbody>\n",
       "</table>\n"
      ],
      "text/latex": [
       "\\begin{tabular}{r|lll}\n",
       " Trand & n & mean\\\\\n",
       "\\hline\n",
       "\t 0        & 23       & 72.00000\\\\\n",
       "\t 1        & 17       & 69.94118\\\\\n",
       "\\end{tabular}\n"
      ],
      "text/markdown": [
       "\n",
       "Trand | n | mean | \n",
       "|---|---|\n",
       "| 0        | 23       | 72.00000 | \n",
       "| 1        | 17       | 69.94118 | \n",
       "\n",
       "\n"
      ],
      "text/plain": [
       "  Trand n  mean    \n",
       "1 0     23 72.00000\n",
       "2 1     17 69.94118"
      ]
     },
     "metadata": {},
     "output_type": "display_data"
    }
   ],
   "source": [
    "library(dplyr)\n",
    "\n",
    "set.seed(2)\n",
    "\n",
    "NO <- 1:40 # 出席番号\n",
    "pre <- runif(40,-1,1) #  準備ができているか\n",
    "Tvol <- ceiling(pre) #  準備ができていれば１で作業を手伝う、できていなければ０で作業を手伝わない\n",
    "y1 <- round(pre*20+70) +(1-Tvol)*sample(1:5,40,replace=TRUE) # 1回目の点数\n",
    "\n",
    "Trand <-sample(c(0,1),40,replace = TRUE) # ランダムに作業手伝いを決める\n",
    "y2 <- round(pre*20+70)+(1-Trand)*sample(1:5,40,replace=TRUE) # 2回目の点数\n",
    "\n",
    "sample1 <- data.frame(出席番号=NO,Tvol,y1,Trand,y2) # データフレームを作成\n",
    "\n",
    "\n",
    "# 1回目の小テストをクロス集計\n",
    "sample1 %>%\n",
    "group_by(Tvol) %>%\n",
    "summarise(n=length(y1),mean=mean(y1))\n",
    "\n",
    "\n",
    "# 2回目のテストをクロス集計\n",
    "sample1 %>%\n",
    " group_by(Trand) %>%\n",
    " summarise(n=length(y2),mean=mean(y2))"
   ]
  },
  {
   "cell_type": "markdown",
   "metadata": {
    "deletable": true,
    "editable": true
   },
   "source": [
    "データフレーム"
   ]
  },
  {
   "cell_type": "code",
   "execution_count": 8,
   "metadata": {
    "collapsed": false,
    "deletable": true,
    "editable": true
   },
   "outputs": [
    {
     "data": {
      "text/html": [
       "<table>\n",
       "<thead><tr><th scope=col>出席番号</th><th scope=col>Tvol</th><th scope=col>y1</th><th scope=col>Trand</th><th scope=col>y2</th></tr></thead>\n",
       "<tbody>\n",
       "\t<tr><td> 1</td><td>0 </td><td>62</td><td>0 </td><td>58</td></tr>\n",
       "\t<tr><td> 2</td><td>1 </td><td>78</td><td>1 </td><td>78</td></tr>\n",
       "\t<tr><td> 3</td><td>1 </td><td>73</td><td>0 </td><td>78</td></tr>\n",
       "\t<tr><td> 4</td><td>0 </td><td>58</td><td>0 </td><td>62</td></tr>\n",
       "\t<tr><td> 5</td><td>1 </td><td>88</td><td>0 </td><td>90</td></tr>\n",
       "\t<tr><td> 6</td><td>1 </td><td>88</td><td>1 </td><td>88</td></tr>\n",
       "\t<tr><td> 7</td><td>0 </td><td>60</td><td>1 </td><td>55</td></tr>\n",
       "\t<tr><td> 8</td><td>1 </td><td>83</td><td>0 </td><td>85</td></tr>\n",
       "\t<tr><td> 9</td><td>0 </td><td>72</td><td>1 </td><td>69</td></tr>\n",
       "\t<tr><td>10</td><td>1 </td><td>72</td><td>0 </td><td>74</td></tr>\n",
       "\t<tr><td>11</td><td>1 </td><td>72</td><td>1 </td><td>72</td></tr>\n",
       "\t<tr><td>12</td><td>0 </td><td>61</td><td>0 </td><td>65</td></tr>\n",
       "\t<tr><td>13</td><td>1 </td><td>80</td><td>0 </td><td>81</td></tr>\n",
       "\t<tr><td>14</td><td>0 </td><td>62</td><td>1 </td><td>57</td></tr>\n",
       "\t<tr><td>15</td><td>0 </td><td>68</td><td>0 </td><td>68</td></tr>\n",
       "\t<tr><td>16</td><td>1 </td><td>84</td><td>0 </td><td>88</td></tr>\n",
       "\t<tr><td>17</td><td>1 </td><td>89</td><td>0 </td><td>92</td></tr>\n",
       "\t<tr><td>18</td><td>0 </td><td>64</td><td>0 </td><td>64</td></tr>\n",
       "\t<tr><td>19</td><td>0 </td><td>72</td><td>0 </td><td>69</td></tr>\n",
       "\t<tr><td>20</td><td>0 </td><td>57</td><td>0 </td><td>55</td></tr>\n",
       "\t<tr><td>21</td><td>1 </td><td>76</td><td>0 </td><td>77</td></tr>\n",
       "\t<tr><td>22</td><td>0 </td><td>71</td><td>0 </td><td>68</td></tr>\n",
       "\t<tr><td>23</td><td>1 </td><td>83</td><td>1 </td><td>83</td></tr>\n",
       "\t<tr><td>24</td><td>0 </td><td>58</td><td>1 </td><td>56</td></tr>\n",
       "\t<tr><td>25</td><td>0 </td><td>69</td><td>0 </td><td>67</td></tr>\n",
       "\t<tr><td>26</td><td>0 </td><td>73</td><td>1 </td><td>70</td></tr>\n",
       "\t<tr><td>27</td><td>0 </td><td>58</td><td>1 </td><td>56</td></tr>\n",
       "\t<tr><td>28</td><td>0 </td><td>67</td><td>0 </td><td>66</td></tr>\n",
       "\t<tr><td>29</td><td>1 </td><td>89</td><td>0 </td><td>92</td></tr>\n",
       "\t<tr><td>30</td><td>0 </td><td>56</td><td>0 </td><td>57</td></tr>\n",
       "\t<tr><td>31</td><td>0 </td><td>52</td><td>0 </td><td>51</td></tr>\n",
       "\t<tr><td>32</td><td>0 </td><td>59</td><td>1 </td><td>57</td></tr>\n",
       "\t<tr><td>33</td><td>1 </td><td>82</td><td>0 </td><td>87</td></tr>\n",
       "\t<tr><td>34</td><td>1 </td><td>85</td><td>1 </td><td>85</td></tr>\n",
       "\t<tr><td>35</td><td>1 </td><td>71</td><td>1 </td><td>71</td></tr>\n",
       "\t<tr><td>36</td><td>1 </td><td>75</td><td>1 </td><td>75</td></tr>\n",
       "\t<tr><td>37</td><td>1 </td><td>84</td><td>1 </td><td>84</td></tr>\n",
       "\t<tr><td>38</td><td>0 </td><td>66</td><td>0 </td><td>62</td></tr>\n",
       "\t<tr><td>39</td><td>1 </td><td>77</td><td>1 </td><td>77</td></tr>\n",
       "\t<tr><td>40</td><td>0 </td><td>59</td><td>1 </td><td>56</td></tr>\n",
       "</tbody>\n",
       "</table>\n"
      ],
      "text/latex": [
       "\\begin{tabular}{r|lllll}\n",
       " 出席番号 & Tvol & y1 & Trand & y2\\\\\n",
       "\\hline\n",
       "\t  1 & 0  & 62 & 0  & 58\\\\\n",
       "\t  2 & 1  & 78 & 1  & 78\\\\\n",
       "\t  3 & 1  & 73 & 0  & 78\\\\\n",
       "\t  4 & 0  & 58 & 0  & 62\\\\\n",
       "\t  5 & 1  & 88 & 0  & 90\\\\\n",
       "\t  6 & 1  & 88 & 1  & 88\\\\\n",
       "\t  7 & 0  & 60 & 1  & 55\\\\\n",
       "\t  8 & 1  & 83 & 0  & 85\\\\\n",
       "\t  9 & 0  & 72 & 1  & 69\\\\\n",
       "\t 10 & 1  & 72 & 0  & 74\\\\\n",
       "\t 11 & 1  & 72 & 1  & 72\\\\\n",
       "\t 12 & 0  & 61 & 0  & 65\\\\\n",
       "\t 13 & 1  & 80 & 0  & 81\\\\\n",
       "\t 14 & 0  & 62 & 1  & 57\\\\\n",
       "\t 15 & 0  & 68 & 0  & 68\\\\\n",
       "\t 16 & 1  & 84 & 0  & 88\\\\\n",
       "\t 17 & 1  & 89 & 0  & 92\\\\\n",
       "\t 18 & 0  & 64 & 0  & 64\\\\\n",
       "\t 19 & 0  & 72 & 0  & 69\\\\\n",
       "\t 20 & 0  & 57 & 0  & 55\\\\\n",
       "\t 21 & 1  & 76 & 0  & 77\\\\\n",
       "\t 22 & 0  & 71 & 0  & 68\\\\\n",
       "\t 23 & 1  & 83 & 1  & 83\\\\\n",
       "\t 24 & 0  & 58 & 1  & 56\\\\\n",
       "\t 25 & 0  & 69 & 0  & 67\\\\\n",
       "\t 26 & 0  & 73 & 1  & 70\\\\\n",
       "\t 27 & 0  & 58 & 1  & 56\\\\\n",
       "\t 28 & 0  & 67 & 0  & 66\\\\\n",
       "\t 29 & 1  & 89 & 0  & 92\\\\\n",
       "\t 30 & 0  & 56 & 0  & 57\\\\\n",
       "\t 31 & 0  & 52 & 0  & 51\\\\\n",
       "\t 32 & 0  & 59 & 1  & 57\\\\\n",
       "\t 33 & 1  & 82 & 0  & 87\\\\\n",
       "\t 34 & 1  & 85 & 1  & 85\\\\\n",
       "\t 35 & 1  & 71 & 1  & 71\\\\\n",
       "\t 36 & 1  & 75 & 1  & 75\\\\\n",
       "\t 37 & 1  & 84 & 1  & 84\\\\\n",
       "\t 38 & 0  & 66 & 0  & 62\\\\\n",
       "\t 39 & 1  & 77 & 1  & 77\\\\\n",
       "\t 40 & 0  & 59 & 1  & 56\\\\\n",
       "\\end{tabular}\n"
      ],
      "text/markdown": [
       "\n",
       "出席番号 | Tvol | y1 | Trand | y2 | \n",
       "|---|---|---|---|---|---|---|---|---|---|---|---|---|---|---|---|---|---|---|---|---|---|---|---|---|---|---|---|---|---|---|---|---|---|---|---|---|---|---|---|\n",
       "|  1 | 0  | 62 | 0  | 58 | \n",
       "|  2 | 1  | 78 | 1  | 78 | \n",
       "|  3 | 1  | 73 | 0  | 78 | \n",
       "|  4 | 0  | 58 | 0  | 62 | \n",
       "|  5 | 1  | 88 | 0  | 90 | \n",
       "|  6 | 1  | 88 | 1  | 88 | \n",
       "|  7 | 0  | 60 | 1  | 55 | \n",
       "|  8 | 1  | 83 | 0  | 85 | \n",
       "|  9 | 0  | 72 | 1  | 69 | \n",
       "| 10 | 1  | 72 | 0  | 74 | \n",
       "| 11 | 1  | 72 | 1  | 72 | \n",
       "| 12 | 0  | 61 | 0  | 65 | \n",
       "| 13 | 1  | 80 | 0  | 81 | \n",
       "| 14 | 0  | 62 | 1  | 57 | \n",
       "| 15 | 0  | 68 | 0  | 68 | \n",
       "| 16 | 1  | 84 | 0  | 88 | \n",
       "| 17 | 1  | 89 | 0  | 92 | \n",
       "| 18 | 0  | 64 | 0  | 64 | \n",
       "| 19 | 0  | 72 | 0  | 69 | \n",
       "| 20 | 0  | 57 | 0  | 55 | \n",
       "| 21 | 1  | 76 | 0  | 77 | \n",
       "| 22 | 0  | 71 | 0  | 68 | \n",
       "| 23 | 1  | 83 | 1  | 83 | \n",
       "| 24 | 0  | 58 | 1  | 56 | \n",
       "| 25 | 0  | 69 | 0  | 67 | \n",
       "| 26 | 0  | 73 | 1  | 70 | \n",
       "| 27 | 0  | 58 | 1  | 56 | \n",
       "| 28 | 0  | 67 | 0  | 66 | \n",
       "| 29 | 1  | 89 | 0  | 92 | \n",
       "| 30 | 0  | 56 | 0  | 57 | \n",
       "| 31 | 0  | 52 | 0  | 51 | \n",
       "| 32 | 0  | 59 | 1  | 57 | \n",
       "| 33 | 1  | 82 | 0  | 87 | \n",
       "| 34 | 1  | 85 | 1  | 85 | \n",
       "| 35 | 1  | 71 | 1  | 71 | \n",
       "| 36 | 1  | 75 | 1  | 75 | \n",
       "| 37 | 1  | 84 | 1  | 84 | \n",
       "| 38 | 0  | 66 | 0  | 62 | \n",
       "| 39 | 1  | 77 | 1  | 77 | \n",
       "| 40 | 0  | 59 | 1  | 56 | \n",
       "\n",
       "\n"
      ],
      "text/plain": [
       "   出席番号 Tvol y1 Trand y2\n",
       "1   1       0    62 0     58\n",
       "2   2       1    78 1     78\n",
       "3   3       1    73 0     78\n",
       "4   4       0    58 0     62\n",
       "5   5       1    88 0     90\n",
       "6   6       1    88 1     88\n",
       "7   7       0    60 1     55\n",
       "8   8       1    83 0     85\n",
       "9   9       0    72 1     69\n",
       "10 10       1    72 0     74\n",
       "11 11       1    72 1     72\n",
       "12 12       0    61 0     65\n",
       "13 13       1    80 0     81\n",
       "14 14       0    62 1     57\n",
       "15 15       0    68 0     68\n",
       "16 16       1    84 0     88\n",
       "17 17       1    89 0     92\n",
       "18 18       0    64 0     64\n",
       "19 19       0    72 0     69\n",
       "20 20       0    57 0     55\n",
       "21 21       1    76 0     77\n",
       "22 22       0    71 0     68\n",
       "23 23       1    83 1     83\n",
       "24 24       0    58 1     56\n",
       "25 25       0    69 0     67\n",
       "26 26       0    73 1     70\n",
       "27 27       0    58 1     56\n",
       "28 28       0    67 0     66\n",
       "29 29       1    89 0     92\n",
       "30 30       0    56 0     57\n",
       "31 31       0    52 0     51\n",
       "32 32       0    59 1     57\n",
       "33 33       1    82 0     87\n",
       "34 34       1    85 1     85\n",
       "35 35       1    71 1     71\n",
       "36 36       1    75 1     75\n",
       "37 37       1    84 1     84\n",
       "38 38       0    66 0     62\n",
       "39 39       1    77 1     77\n",
       "40 40       0    59 1     56"
      ]
     },
     "metadata": {},
     "output_type": "display_data"
    }
   ],
   "source": [
    "sample1"
   ]
  }
 ],
 "metadata": {
  "kernelspec": {
   "display_name": "R",
   "language": "R",
   "name": "ir"
  },
  "language_info": {
   "codemirror_mode": "r",
   "file_extension": ".r",
   "mimetype": "text/x-r-source",
   "name": "R",
   "pygments_lexer": "r",
   "version": "3.2.3"
  }
 },
 "nbformat": 4,
 "nbformat_minor": 2
}
